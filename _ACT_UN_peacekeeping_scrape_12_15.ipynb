{
  "nbformat": 4,
  "nbformat_minor": 0,
  "metadata": {
    "colab": {
      "provenance": [],
      "include_colab_link": true
    },
    "kernelspec": {
      "name": "python3",
      "display_name": "Python 3"
    },
    "language_info": {
      "name": "python"
    }
  },
  "cells": [
    {
      "cell_type": "markdown",
      "metadata": {
        "id": "view-in-github",
        "colab_type": "text"
      },
      "source": [
        "<a href=\"https://colab.research.google.com/github/pmckim1/Capstone/blob/main/_ACT_UN_peacekeeping_scrape_12_15.ipynb\" target=\"_parent\"><img src=\"https://colab.research.google.com/assets/colab-badge.svg\" alt=\"Open In Colab\"/></a>"
      ]
    },
    {
      "cell_type": "markdown",
      "source": [
        "- scrape PDFS\n"
      ],
      "metadata": {
        "id": "FbRHwQur-dXt"
      }
    },
    {
      "cell_type": "code",
      "source": [
        "!pip install PyPDF2"
      ],
      "metadata": {
        "colab": {
          "base_uri": "https://localhost:8080/"
        },
        "id": "15L9aQkvz1lO",
        "outputId": "5a1a08d7-d67d-4cf7-e956-6c85ce4d3972"
      },
      "execution_count": null,
      "outputs": [
        {
          "output_type": "stream",
          "name": "stdout",
          "text": [
            "Looking in indexes: https://pypi.org/simple, https://us-python.pkg.dev/colab-wheels/public/simple/\n",
            "Collecting PyPDF2\n",
            "  Downloading pypdf2-3.0.1-py3-none-any.whl (232 kB)\n",
            "\u001b[2K     \u001b[90m━━━━━━━━━━━━━━━━━━━━━━━━━━━━━━━━━━━━━━━\u001b[0m \u001b[32m232.6/232.6 kB\u001b[0m \u001b[31m4.2 MB/s\u001b[0m eta \u001b[36m0:00:00\u001b[0m\n",
            "\u001b[?25hInstalling collected packages: PyPDF2\n",
            "Successfully installed PyPDF2-3.0.1\n"
          ]
        }
      ]
    },
    {
      "cell_type": "code",
      "execution_count": null,
      "metadata": {
        "id": "O5ajXaHNo7SF"
      },
      "outputs": [],
      "source": [
        "# import scraping libraries\n",
        "import requests\n",
        "from bs4 import BeautifulSoup\n",
        "from google.colab import files\n",
        ""
      ]
    },
    {
      "cell_type": "code",
      "source": [
        "#url to download pdfs\n",
        "#url=\"https://peacekeeping.un.org/en/troop-and-police-contributors\"\n",
        "\n",
        "#04_mission_and_country_54_september_2022"
      ],
      "metadata": {
        "id": "XqSKg_5OpMfs"
      },
      "execution_count": null,
      "outputs": []
    },
    {
      "cell_type": "code",
      "source": [
        "import os\n",
        "from google.colab import drive\n",
        "import sys\n",
        "import pandas as pd\n",
        "import json\n",
        "import PyPDF2\n",
        "# Mount Google Drive\n",
        "drive.mount('/content/drive')\n",
        "\n",
        "# Get the absolute path of the current folder\n",
        "\n",
        "abspath_curr = '/content/drive/MyDrive/'"
      ],
      "metadata": {
        "id": "fnRddLMBzRNS",
        "colab": {
          "base_uri": "https://localhost:8080/",
          "height": 380
        },
        "outputId": "ed7661c3-f6e7-4dbf-a9c5-f1bc5e1573ee"
      },
      "execution_count": null,
      "outputs": [
        {
          "output_type": "error",
          "ename": "MessageError",
          "evalue": "ignored",
          "traceback": [
            "\u001b[0;31m---------------------------------------------------------------------------\u001b[0m",
            "\u001b[0;31mMessageError\u001b[0m                              Traceback (most recent call last)",
            "\u001b[0;32m<ipython-input-4-3c45af3c10c1>\u001b[0m in \u001b[0;36m<cell line: 8>\u001b[0;34m()\u001b[0m\n\u001b[1;32m      6\u001b[0m \u001b[0;32mimport\u001b[0m \u001b[0mPyPDF2\u001b[0m\u001b[0;34m\u001b[0m\u001b[0;34m\u001b[0m\u001b[0m\n\u001b[1;32m      7\u001b[0m \u001b[0;31m# Mount Google Drive\u001b[0m\u001b[0;34m\u001b[0m\u001b[0;34m\u001b[0m\u001b[0m\n\u001b[0;32m----> 8\u001b[0;31m \u001b[0mdrive\u001b[0m\u001b[0;34m.\u001b[0m\u001b[0mmount\u001b[0m\u001b[0;34m(\u001b[0m\u001b[0;34m'/content/drive'\u001b[0m\u001b[0;34m)\u001b[0m\u001b[0;34m\u001b[0m\u001b[0;34m\u001b[0m\u001b[0m\n\u001b[0m\u001b[1;32m      9\u001b[0m \u001b[0;34m\u001b[0m\u001b[0m\n\u001b[1;32m     10\u001b[0m \u001b[0;31m# Get the absolute path of the current folder\u001b[0m\u001b[0;34m\u001b[0m\u001b[0;34m\u001b[0m\u001b[0m\n",
            "\u001b[0;32m/usr/local/lib/python3.10/dist-packages/google/colab/drive.py\u001b[0m in \u001b[0;36mmount\u001b[0;34m(mountpoint, force_remount, timeout_ms, readonly)\u001b[0m\n\u001b[1;32m    101\u001b[0m \u001b[0;32mdef\u001b[0m \u001b[0mmount\u001b[0m\u001b[0;34m(\u001b[0m\u001b[0mmountpoint\u001b[0m\u001b[0;34m,\u001b[0m \u001b[0mforce_remount\u001b[0m\u001b[0;34m=\u001b[0m\u001b[0;32mFalse\u001b[0m\u001b[0;34m,\u001b[0m \u001b[0mtimeout_ms\u001b[0m\u001b[0;34m=\u001b[0m\u001b[0;36m120000\u001b[0m\u001b[0;34m,\u001b[0m \u001b[0mreadonly\u001b[0m\u001b[0;34m=\u001b[0m\u001b[0;32mFalse\u001b[0m\u001b[0;34m)\u001b[0m\u001b[0;34m:\u001b[0m\u001b[0;34m\u001b[0m\u001b[0;34m\u001b[0m\u001b[0m\n\u001b[1;32m    102\u001b[0m   \u001b[0;34m\"\"\"Mount your Google Drive at the specified mountpoint path.\"\"\"\u001b[0m\u001b[0;34m\u001b[0m\u001b[0;34m\u001b[0m\u001b[0m\n\u001b[0;32m--> 103\u001b[0;31m   return _mount(\n\u001b[0m\u001b[1;32m    104\u001b[0m       \u001b[0mmountpoint\u001b[0m\u001b[0;34m,\u001b[0m\u001b[0;34m\u001b[0m\u001b[0;34m\u001b[0m\u001b[0m\n\u001b[1;32m    105\u001b[0m       \u001b[0mforce_remount\u001b[0m\u001b[0;34m=\u001b[0m\u001b[0mforce_remount\u001b[0m\u001b[0;34m,\u001b[0m\u001b[0;34m\u001b[0m\u001b[0;34m\u001b[0m\u001b[0m\n",
            "\u001b[0;32m/usr/local/lib/python3.10/dist-packages/google/colab/drive.py\u001b[0m in \u001b[0;36m_mount\u001b[0;34m(mountpoint, force_remount, timeout_ms, ephemeral, readonly)\u001b[0m\n\u001b[1;32m    130\u001b[0m   )\n\u001b[1;32m    131\u001b[0m   \u001b[0;32mif\u001b[0m \u001b[0mephemeral\u001b[0m\u001b[0;34m:\u001b[0m\u001b[0;34m\u001b[0m\u001b[0;34m\u001b[0m\u001b[0m\n\u001b[0;32m--> 132\u001b[0;31m     _message.blocking_request(\n\u001b[0m\u001b[1;32m    133\u001b[0m         \u001b[0;34m'request_auth'\u001b[0m\u001b[0;34m,\u001b[0m \u001b[0mrequest\u001b[0m\u001b[0;34m=\u001b[0m\u001b[0;34m{\u001b[0m\u001b[0;34m'authType'\u001b[0m\u001b[0;34m:\u001b[0m \u001b[0;34m'dfs_ephemeral'\u001b[0m\u001b[0;34m}\u001b[0m\u001b[0;34m,\u001b[0m \u001b[0mtimeout_sec\u001b[0m\u001b[0;34m=\u001b[0m\u001b[0;32mNone\u001b[0m\u001b[0;34m\u001b[0m\u001b[0;34m\u001b[0m\u001b[0m\n\u001b[1;32m    134\u001b[0m     )\n",
            "\u001b[0;32m/usr/local/lib/python3.10/dist-packages/google/colab/_message.py\u001b[0m in \u001b[0;36mblocking_request\u001b[0;34m(request_type, request, timeout_sec, parent)\u001b[0m\n\u001b[1;32m    174\u001b[0m       \u001b[0mrequest_type\u001b[0m\u001b[0;34m,\u001b[0m \u001b[0mrequest\u001b[0m\u001b[0;34m,\u001b[0m \u001b[0mparent\u001b[0m\u001b[0;34m=\u001b[0m\u001b[0mparent\u001b[0m\u001b[0;34m,\u001b[0m \u001b[0mexpect_reply\u001b[0m\u001b[0;34m=\u001b[0m\u001b[0;32mTrue\u001b[0m\u001b[0;34m\u001b[0m\u001b[0;34m\u001b[0m\u001b[0m\n\u001b[1;32m    175\u001b[0m   )\n\u001b[0;32m--> 176\u001b[0;31m   \u001b[0;32mreturn\u001b[0m \u001b[0mread_reply_from_input\u001b[0m\u001b[0;34m(\u001b[0m\u001b[0mrequest_id\u001b[0m\u001b[0;34m,\u001b[0m \u001b[0mtimeout_sec\u001b[0m\u001b[0;34m)\u001b[0m\u001b[0;34m\u001b[0m\u001b[0;34m\u001b[0m\u001b[0m\n\u001b[0m",
            "\u001b[0;32m/usr/local/lib/python3.10/dist-packages/google/colab/_message.py\u001b[0m in \u001b[0;36mread_reply_from_input\u001b[0;34m(message_id, timeout_sec)\u001b[0m\n\u001b[1;32m    101\u001b[0m     ):\n\u001b[1;32m    102\u001b[0m       \u001b[0;32mif\u001b[0m \u001b[0;34m'error'\u001b[0m \u001b[0;32min\u001b[0m \u001b[0mreply\u001b[0m\u001b[0;34m:\u001b[0m\u001b[0;34m\u001b[0m\u001b[0;34m\u001b[0m\u001b[0m\n\u001b[0;32m--> 103\u001b[0;31m         \u001b[0;32mraise\u001b[0m \u001b[0mMessageError\u001b[0m\u001b[0;34m(\u001b[0m\u001b[0mreply\u001b[0m\u001b[0;34m[\u001b[0m\u001b[0;34m'error'\u001b[0m\u001b[0;34m]\u001b[0m\u001b[0;34m)\u001b[0m\u001b[0;34m\u001b[0m\u001b[0;34m\u001b[0m\u001b[0m\n\u001b[0m\u001b[1;32m    104\u001b[0m       \u001b[0;32mreturn\u001b[0m \u001b[0mreply\u001b[0m\u001b[0;34m.\u001b[0m\u001b[0mget\u001b[0m\u001b[0;34m(\u001b[0m\u001b[0;34m'data'\u001b[0m\u001b[0;34m,\u001b[0m \u001b[0;32mNone\u001b[0m\u001b[0;34m)\u001b[0m\u001b[0;34m\u001b[0m\u001b[0;34m\u001b[0m\u001b[0m\n\u001b[1;32m    105\u001b[0m \u001b[0;34m\u001b[0m\u001b[0m\n",
            "\u001b[0;31mMessageError\u001b[0m: Error: credential propagation was unsuccessful"
          ]
        }
      ]
    },
    {
      "cell_type": "code",
      "source": [
        "# Requests URL and get response object\n",
        "import pandas as pd\n",
        "# creating a pdf file object\n",
        "pdfFileObj = open(abspath_curr + '04_mission_and_country_47_feb_2022.pdf', 'rb')\n",
        "# creating a pdf reader object\n",
        "pdfReader = PyPDF2.PdfReader(pdfFileObj)\n",
        "# printing number of pages in pdf file\n",
        "# print(pdfReader.numPages)\n",
        "\n",
        "document_text=\"\"\n",
        "# creating a page object\n",
        "for idx in range(len(pdfReader.pages)):\n",
        "  pageObj = pdfReader.pages[idx]\n",
        "  print(pageObj)\n",
        "  # extracting text from page\n",
        "  document_text += pageObj.extract_text()\n",
        "\n",
        "# closing the pdf file object\n",
        "pdfFileObj.close()\n",
        "\n"
      ],
      "metadata": {
        "id": "nzSE-beE0blv"
      },
      "execution_count": null,
      "outputs": []
    },
    {
      "cell_type": "code",
      "source": [
        "clean_document_text = [line.strip() for line in document_text.splitlines() if line]\n",
        "for line in clean_document_text:\n",
        "  print(line)"
      ],
      "metadata": {
        "id": "TlmNqbNR6oLb"
      },
      "execution_count": null,
      "outputs": []
    },
    {
      "cell_type": "code",
      "source": [
        "clean_document_text = [line.strip() for line in document_text.splitlines() if line]\n",
        "\n",
        "mission_types = [\"BINUH\", \"MINURSO\", \"MINUSCA\", \"MINUSMA\", \"MONUSCO\", \"UNAMA\",\"UNAMI\", \"UNDOF\", \"UNFICYP\", \"UNIFIL\", \"UNISFA\",\n",
        "                 \"UNITAMS\", \"UNMHA\", \"UNMIK\", \"UNMISS\", \"UNMOGIP\", \"UNOWAS\", \"UNSMIL\",\n",
        "                 \"UNSOM\", \"UNSOS\", \"UNTSO\", \"UNVMC\"]\n",
        "personel_types = [\"Individual Police\", \"Experts on Mission\", \"Staff Officer\"]\n",
        "\n",
        "df = pd.DataFrame(columns = [\"Mission\",\"Country\", \"Personnel Type\", \"Male\", \"Female\", \"Total\"])\n",
        "\n",
        "\n",
        "line_iter = iter(clean_document_text)\n",
        "\n",
        "next_row = {\n",
        "  \"Mission\": None,\n",
        "  \"Country\": None,\n",
        "  \"Personnel Type\": None,\n",
        "  \"Male\": None,\n",
        "  \"Female\": None,\n",
        "  \"Total\": None,\n",
        "}\n",
        "\n",
        "def is_number(line):\n",
        "  try:\n",
        "    int(line)\n",
        "    return True\n",
        "  except:\n",
        "    return False\n",
        "\n",
        "mission = None\n",
        "country = None\n",
        "idx = 0\n",
        "while idx < len(clean_document_text) - 1:\n",
        "    idx = idx + 1\n",
        "    line = clean_document_text[idx]\n",
        "    # print(line)\n",
        "    if line in mission_types:\n",
        "      mission = line\n",
        "      next_row[\"Mission\"] = mission\n",
        "      #print(f\"Its a mission line: {mission}\")\n",
        "      continue\n",
        "    elif not mission:\n",
        "      #print(f\"Not in a mission: {line}\")\n",
        "      continue\n",
        "\n",
        "    if line.startswith(\"Total \"):\n",
        "      mission = None\n",
        "      continue\n",
        "\n",
        "    if is_number(clean_document_text[idx+1]):\n",
        "      next_row['Personnel Type'] =  clean_document_text[idx]\n",
        "      next_row[\"Male\"] = clean_document_text[idx+1]\n",
        "      next_row[\"Female\"] = clean_document_text[idx+2]\n",
        "      next_row[\"Total\"] = clean_document_text[idx+3]\n",
        "      idx += 3\n",
        "      df = df.append(next_row, ignore_index=True)\n",
        "    else:\n",
        "      country = line\n",
        "      next_row[\"Country\"] = country\n",
        "\n",
        "#print(df)\n",
        "\n",
        "df = df[df['Personnel Type'] != 'Page']\n",
        "\n",
        "\n",
        "df[\"Mission_Name\"]=df[\"Mission\"].replace({'MINURSO': 'Western Sahara',\n",
        "                                     \"MINUSCA\": 'CAR',\n",
        "                                     'MINUSMA': 'Mali',\n",
        "                                    'MONUSCO': 'DRC',\n",
        "                                    'UNAMA': 'Afghanistan',\n",
        "                                     'UNAMI': 'Iraq',\n",
        "                                     'UNDOF': 'Golan Heights',\n",
        "                                    'UNFICYP': 'Cyprus',\n",
        "                                     'UNIFIL': 'Lebanon',\n",
        "                                     'UNISFA': 'Abyei',\n",
        "                                     'UNITAMS': 'Sudan',\n",
        "                                     'UNMHA': 'Yemeni',\n",
        "                                    'UNMIK': 'Kosovo',\n",
        "                                     'UNMISS': 'South Sudan',\n",
        "                                     'UNMOGIP': 'Kashmir',\n",
        "                                     'UNOWAS': 'Dakar',\n",
        "                                     'UNSMIL': 'Libya',\n",
        "                                     'UNSOM': 'Somalia',\n",
        "                                     'UNSOS': 'Somalia',\n",
        "                                      'UNTSO': 'Jerusalem',\n",
        "                                     'UNVMC': 'Colombia'})"
      ],
      "metadata": {
        "id": "wwZGJAil1X83"
      },
      "execution_count": null,
      "outputs": []
    },
    {
      "cell_type": "code",
      "source": [
        "df.Mission.unique()"
      ],
      "metadata": {
        "id": "JJcDcn91czXQ"
      },
      "execution_count": null,
      "outputs": []
    },
    {
      "cell_type": "code",
      "source": [
        "df.head()"
      ],
      "metadata": {
        "id": "nO-licVTuu4K"
      },
      "execution_count": null,
      "outputs": []
    },
    {
      "cell_type": "code",
      "source": [
        "df.to_csv(\"peace_keeping_feb.csv\")"
      ],
      "metadata": {
        "id": "5JJutyI-qGv7"
      },
      "execution_count": null,
      "outputs": []
    },
    {
      "cell_type": "code",
      "source": [
        "from google.colab import files\n",
        "files.download(\"peace_keeping_feb.csv\")"
      ],
      "metadata": {
        "id": "8a8Cu9fwqG9B"
      },
      "execution_count": null,
      "outputs": []
    },
    {
      "cell_type": "code",
      "source": [],
      "metadata": {
        "id": "TAkSloUYRKbQ"
      },
      "execution_count": null,
      "outputs": []
    },
    {
      "cell_type": "code",
      "source": [],
      "metadata": {
        "id": "RmmDn6eJEu96"
      },
      "execution_count": null,
      "outputs": []
    }
  ]
}