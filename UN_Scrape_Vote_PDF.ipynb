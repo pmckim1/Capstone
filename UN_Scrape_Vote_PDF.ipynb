{
  "nbformat": 4,
  "nbformat_minor": 0,
  "metadata": {
    "colab": {
      "provenance": [],
      "include_colab_link": true
    },
    "kernelspec": {
      "name": "python3",
      "display_name": "Python 3"
    },
    "language_info": {
      "name": "python"
    }
  },
  "cells": [
    {
      "cell_type": "markdown",
      "metadata": {
        "id": "view-in-github",
        "colab_type": "text"
      },
      "source": [
        "<a href=\"https://colab.research.google.com/github/pmckim1/Capstone/blob/main/UN_Scrape_Vote_PDF.ipynb\" target=\"_parent\"><img src=\"https://colab.research.google.com/assets/colab-badge.svg\" alt=\"Open In Colab\"/></a>"
      ]
    },
    {
      "cell_type": "code",
      "execution_count": null,
      "metadata": {
        "colab": {
          "base_uri": "https://localhost:8080/"
        },
        "id": "ylooL9tfb-J0",
        "outputId": "3e53f18e-8b51-4114-b398-c66adf97997b"
      },
      "outputs": [
        {
          "output_type": "stream",
          "name": "stdout",
          "text": [
            "Collecting PyPDF2\n",
            "  Downloading pypdf2-3.0.1-py3-none-any.whl (232 kB)\n",
            "\u001b[?25l     \u001b[90m━━━━━━━━━━━━━━━━━━━━━━━━━━━━━━━━━━━━━━━━\u001b[0m \u001b[32m0.0/232.6 kB\u001b[0m \u001b[31m?\u001b[0m eta \u001b[36m-:--:--\u001b[0m\r\u001b[2K     \u001b[91m━━━━━━━━━━━━━━━━━━━━━━━━━━━━━━━━━━━\u001b[0m\u001b[90m╺\u001b[0m\u001b[90m━━━━\u001b[0m \u001b[32m204.8/232.6 kB\u001b[0m \u001b[31m6.0 MB/s\u001b[0m eta \u001b[36m0:00:01\u001b[0m\r\u001b[2K     \u001b[90m━━━━━━━━━━━━━━━━━━━━━━━━━━━━━━━━━━━━━━━━\u001b[0m \u001b[32m232.6/232.6 kB\u001b[0m \u001b[31m5.1 MB/s\u001b[0m eta \u001b[36m0:00:00\u001b[0m\n",
            "\u001b[?25hInstalling collected packages: PyPDF2\n",
            "Successfully installed PyPDF2-3.0.1\n",
            "Python 3.10.12\n"
          ]
        }
      ],
      "source": [
        "!pip install PyPDF2\n",
        "!python --version"
      ]
    },
    {
      "cell_type": "markdown",
      "source": [],
      "metadata": {
        "id": "NYr2ZBFLPtwz"
      }
    },
    {
      "cell_type": "code",
      "source": [],
      "metadata": {
        "id": "-sJ4DexKPuR4"
      },
      "execution_count": null,
      "outputs": []
    },
    {
      "cell_type": "markdown",
      "source": [],
      "metadata": {
        "id": "JG6JZ35PPuya"
      }
    },
    {
      "cell_type": "code",
      "source": [
        "# import scraping libraries\n",
        "import requests\n",
        "from bs4 import BeautifulSoup\n",
        "from google.colab import files"
      ],
      "metadata": {
        "id": "QiKEWw0-cXHq"
      },
      "execution_count": null,
      "outputs": []
    },
    {
      "cell_type": "code",
      "source": [
        "import os\n",
        "from google.colab import drive\n",
        "import sys\n",
        "import pandas as pd\n",
        "import json\n",
        "import PyPDF2\n",
        "import itertools\n",
        "# Mount Google Drive\n",
        "drive.mount('/content/drive')\n",
        "\n",
        "# Get the absolute path of the current folder\n",
        "\n",
        "abspath_curr = '/content/drive/MyDrive/'\n",
        "\n",
        "countries=pd.read_excel(abspath_curr + 'List_Countries_Scrapper.xlsx', sheet_name=\"Sheet1\", header=0)\n",
        "print(countries.columns)\n",
        "countries['Country'] = countries['Country'].str.upper().str.strip()\n",
        "countries_list = {*itertools.chain.from_iterable(countries.values)}\n",
        "\n",
        "print(countries_list)"
      ],
      "metadata": {
        "colab": {
          "base_uri": "https://localhost:8080/"
        },
        "id": "obyvSReRccaz",
        "outputId": "eca6784c-aa60-4d76-8561-dc1af50802ea"
      },
      "execution_count": null,
      "outputs": [
        {
          "output_type": "stream",
          "name": "stdout",
          "text": [
            "Mounted at /content/drive\n",
            "Index(['Country'], dtype='object')\n",
            "{'AFGHANISTAN', 'TRINIDAD AND TOBAGO', 'ANTIGUA AND BARBUDA', 'VANUATU', 'ARGENTINA', 'BRAZIL', 'AUSTRALIA', 'MALAWI', 'BULGARIA', 'CZECHIA', 'AZERBAIJAN', 'FINLAND', 'NEPAL', 'LIBYA', 'SOUTH SUDAN', 'LUXEMBOURG', 'INDONESIA', 'MEXICO', 'POLAND', 'CENTRAL AFRICAN REPUBLIC', 'ZAMBIA', 'UNITED STATES', 'BELARUS', 'NETHERLANDS', 'PANAMA', 'IRAQ', 'PARAGUAY', 'GUYANA', 'YEMEN', 'ESWATINI', 'MONGOLIA', 'MALDIVES', 'NIGERIA', 'COMOROS', 'PAKISTAN', 'PALAU', 'SLOVAKIA', 'SRI LANKA', 'SYRIA', 'THAILAND', 'RWANDA', 'EQUATORIAL GUINEA', 'KUWAIT', 'SENEGAL', 'MOZAMBIQUE', 'UNITED ARAB EMIRATES', 'JAPAN', 'DJIBOUTI', 'JORDAN', 'SAINT VINCENT AND THE GRENADINES', 'SINGAPORE', 'COSTA RICA', 'ANGOLA', 'UNITED KINGDOM', 'BELGIUM', 'ETHIOPIA', 'HAITI', 'QATAR', 'UGANDA', 'TAJIKISTAN', 'GREECE', 'MAURITIUS', 'GHANA', 'SAINT LUCIA', 'ISRAEL', 'ROMANIA', 'VENEZUELA', 'HONDURAS', 'TONGA', 'FIJI', 'MALAYSIA', 'MICRONESIA (FEDERATED\\nSTATES OF)', 'MALTA', 'SAO TOME AND PRINCIPE', 'ANDORRA', 'SAMOA', 'CANADA', 'SURINAME', 'SWITZERLAND', 'SOUTH AFRICA', 'SIERRA LEONE', 'FRANCE', 'NORTH MACEDONIA', 'TUNISIA', 'BURKINA FASO', 'SAUDI ARABIA', 'GRENADA', 'BANGLADESH', 'CROATIA', 'LAO PDR', 'CYPRUS', 'BHUTAN', 'CONGO', 'URUGUAY', 'SWEDEN', 'DOMINICAN REPUBLIC', \"DEMOCRATIC PEOPLE'S\\nREPUBLIC OF KOREA\", 'MARSHALL ISLANDS', 'REPUBLIC OF KOREA', 'RUSSIAN FEDERATION', 'NAMIBIA', 'MALI', 'GEORGIA', 'NAURU', 'EGYPT', 'TÜRKIYE', 'IRAN (ISLAMIC REPUBLIC OF)', 'MONACO', 'HUNGARY', 'NORWAY', 'PAPUA NEW GUINEA', 'BARBADOS', 'GUINEA', 'BOTSWANA', 'NIGER', 'SEYCHELLES', 'REPUBLIC OF MOLDOVA', 'BENIN', 'BAHRAIN', 'IRELAND', 'DEMOCRATIC REPUBLIC OF THE CONGO', 'MADAGASCAR', 'LEBANON', 'ECUADOR', 'DENMARK', 'TOGO', 'CHILE', 'LATVIA', 'SAINT KITTS AND NEVIS', 'ALBANIA', 'PORTUGAL', 'CHINA', 'DOMINICA', 'CHAD', 'COLOMBIA', 'SOLOMON ISLANDS', 'UNITED REPUBLIC OF TANZANIA', 'MAURITANIA', 'ICELAND', 'PHILIPPINES', 'AUSTRIA', 'ERITREA', 'TIMOR-LESTE', 'TUVALU', 'ARMENIA', 'GUINEA-BISSAU', 'VIET NAM', 'BELIZE', 'BRUNEI DARUSSALAM', 'CABO VERDE', 'CAMBODIA', 'MOROCCO', 'JAMAICA', 'EL SALVADOR', 'SAN MARINO', 'TURKMENISTAN', 'GAMBIA', 'LIBERIA', 'SLOVENIA', 'CAMEROON', 'SERBIA', 'MONTENEGRO', 'GABON', 'BOSNIA AND HERZEGOVINA', 'BOLIVIA', 'CUBA', 'KAZAKHSTAN', 'BAHAMAS', 'OMAN', 'LESOTHO', 'ALGERIA', 'INDIA', 'ITALY', 'LITHUANIA', 'SPAIN', 'GERMANY', 'UZBEKISTAN', \"COTE D'IVOIRE\", 'BURUNDI', 'ESTONIA', 'KENYA', 'KIRIBATI', 'LIECHTENSTEIN', 'SUDAN', 'UKRAINE', 'NEW ZEALAND', 'KYRGYZSTAN', 'PERU', 'SOMALIA', 'MYANMAR', 'ZIMBABWE', 'GUATEMALA', 'NICARAGUA'}\n"
          ]
        }
      ]
    },
    {
      "cell_type": "code",
      "source": [
        "print(len(countries_list))\n",
        "print(type(countries_list))"
      ],
      "metadata": {
        "colab": {
          "base_uri": "https://localhost:8080/"
        },
        "id": "Ww0Ai5WLyHNl",
        "outputId": "d706b616-b35e-4ea4-b5d1-7b3d0e516c32"
      },
      "execution_count": null,
      "outputs": [
        {
          "output_type": "stream",
          "name": "stdout",
          "text": [
            "193\n",
            "<class 'set'>\n"
          ]
        }
      ]
    },
    {
      "cell_type": "code",
      "source": [
        "# Requests URL and get response object\n",
        "import pandas as pd\n",
        "# creating a pdf file object\n",
        "pdfFileObj = open(abspath_curr + 'ES-11 Motion by Albania.pdf', 'rb')\n",
        "\n",
        "# creating a pdf reader object\n",
        "pdfReader = PyPDF2.PdfReader(pdfFileObj)\n",
        "\n",
        "# printing number of pages in pdf file\n",
        "# print(pdfReader.numPages)\n",
        "\n",
        "document_text=\"\"\n",
        "# creating a page object\n",
        "for idx in range(len(pdfReader.pages)):\n",
        "  pageObj = pdfReader.pages[idx]\n",
        "  print(pageObj)\n",
        "  # extracting text from page\n",
        "  document_text += pageObj.extract_text()\n",
        "\n",
        "# closing the pdf file object\n",
        "pdfFileObj.close()\n"
      ],
      "metadata": {
        "id": "ObNDZlGychFC",
        "colab": {
          "base_uri": "https://localhost:8080/"
        },
        "outputId": "f476e69e-0860-4425-8978-14bf2db1d2a1"
      },
      "execution_count": null,
      "outputs": [
        {
          "output_type": "stream",
          "name": "stdout",
          "text": [
            "{'/Type': '/Page', '/MediaBox': [0, 0, 595, 842], '/Rotate': 0, '/Parent': IndirectObject(3, 0, 140059184496352), '/Resources': {'/ProcSet': ['/PDF', '/Text'], '/ExtGState': IndirectObject(10, 0, 140059184496352), '/Font': IndirectObject(11, 0, 140059184496352)}, '/Contents': IndirectObject(5, 0, 140059184496352)}\n"
          ]
        }
      ]
    },
    {
      "cell_type": "code",
      "source": [
        "clean_document_text = [line.strip() for line in document_text.splitlines() if line]\n",
        "vote_results = clean_document_text[9:]\n",
        "# print(vote_results)\n",
        "sliced = ' '.join(vote_results).split()\n",
        "print(sorted(countries_list))\n",
        "print(sliced)\n",
        "\n",
        "results = dict()\n",
        "grp = []\n",
        "while len(sliced):\n",
        "  element = sliced[0]\n",
        "  sliced = sliced[1:]\n",
        "  if len(element) > 1:\n",
        "    grp.append(element)\n",
        "  else:\n",
        "    results[' '.join(grp)] = element\n",
        "    grp = []\n",
        "\n",
        "clean_results = dict()\n",
        "# 'LESOTHO SAINT KITTS AND NEVIS DENMARK': 'Y'\n",
        "# 'LESOTHO': _\n",
        "# 'SAINT KITTS AND NEVIS': _\n",
        "# 'DENMARK': 'Y'\n",
        "# for country, vote in sorted(results.items()):\n",
        "for country, vote in results.items():\n",
        "  if country in countries_list:\n",
        "#     print(\"In the list \", country, \" as \", vote)\n",
        "    print(f\"Directly adding {country} as {vote}\")\n",
        "    clean_results[country] = vote\n",
        "  else:\n",
        "#     print(\"Not in the list:\", country)\n",
        "    sliced = country.split()\n",
        "    grp = []\n",
        "    while len(sliced):\n",
        "      element = sliced[0]\n",
        "      sliced = sliced[1:]\n",
        "#       print(f\"Element: {element}   Sliced: {sliced}\")\n",
        "      grp.append(element)\n",
        "      candidate_country = ' '.join(grp)\n",
        "      if candidate_country in countries_list:\n",
        "        print(f\"Adding {candidate_country} as _\")\n",
        "        clean_results[candidate_country] = '_'\n",
        "        grp = []\n",
        "#       else:\n",
        "#         print(f\"Country `{candidate_country}` was not in the list of countries, bolting on next word.\")\n",
        "    print(f\"Adding {candidate_country} as {vote}\")\n",
        "    # candidate_country = ' '.join(grp)\n",
        "    clean_results[candidate_country] = vote\n",
        "print(sorted(results.items()))\n",
        "print(sorted(clean_results.items()))\n",
        "\n",
        "\n",
        "\n"
      ],
      "metadata": {
        "colab": {
          "base_uri": "https://localhost:8080/"
        },
        "id": "EdHlviWbdpXx",
        "outputId": "9b6f7aa3-25f5-4532-c7d7-7dc3299eeff4"
      },
      "execution_count": null,
      "outputs": [
        {
          "output_type": "stream",
          "name": "stdout",
          "text": [
            "['AFGHANISTAN', 'ALBANIA', 'ALGERIA', 'ANDORRA', 'ANGOLA', 'ANTIGUA AND BARBUDA', 'ARGENTINA', 'ARMENIA', 'AUSTRALIA', 'AUSTRIA', 'AZERBAIJAN', 'BAHAMAS', 'BAHRAIN', 'BANGLADESH', 'BARBADOS', 'BELARUS', 'BELGIUM', 'BELIZE', 'BENIN', 'BHUTAN', 'BOLIVIA', 'BOSNIA AND HERZEGOVINA', 'BOTSWANA', 'BRAZIL', 'BRUNEI DARUSSALAM', 'BULGARIA', 'BURKINA FASO', 'BURUNDI', 'CABO VERDE', 'CAMBODIA', 'CAMEROON', 'CANADA', 'CENTRAL AFRICAN REPUBLIC', 'CHAD', 'CHILE', 'CHINA', 'COLOMBIA', 'COMOROS', 'CONGO', 'COSTA RICA', \"COTE D'IVOIRE\", 'CROATIA', 'CUBA', 'CYPRUS', 'CZECHIA', \"DEMOCRATIC PEOPLE'S\\nREPUBLIC OF KOREA\", 'DEMOCRATIC REPUBLIC OF THE CONGO', 'DENMARK', 'DJIBOUTI', 'DOMINICA', 'DOMINICAN REPUBLIC', 'ECUADOR', 'EGYPT', 'EL SALVADOR', 'EQUATORIAL GUINEA', 'ERITREA', 'ESTONIA', 'ESWATINI', 'ETHIOPIA', 'FIJI', 'FINLAND', 'FRANCE', 'GABON', 'GAMBIA', 'GEORGIA', 'GERMANY', 'GHANA', 'GREECE', 'GRENADA', 'GUATEMALA', 'GUINEA', 'GUINEA-BISSAU', 'GUYANA', 'HAITI', 'HONDURAS', 'HUNGARY', 'ICELAND', 'INDIA', 'INDONESIA', 'IRAN (ISLAMIC REPUBLIC OF)', 'IRAQ', 'IRELAND', 'ISRAEL', 'ITALY', 'JAMAICA', 'JAPAN', 'JORDAN', 'KAZAKHSTAN', 'KENYA', 'KIRIBATI', 'KUWAIT', 'KYRGYZSTAN', 'LAO PDR', 'LATVIA', 'LEBANON', 'LESOTHO', 'LIBERIA', 'LIBYA', 'LIECHTENSTEIN', 'LITHUANIA', 'LUXEMBOURG', 'MADAGASCAR', 'MALAWI', 'MALAYSIA', 'MALDIVES', 'MALI', 'MALTA', 'MARSHALL ISLANDS', 'MAURITANIA', 'MAURITIUS', 'MEXICO', 'MICRONESIA (FEDERATED\\nSTATES OF)', 'MONACO', 'MONGOLIA', 'MONTENEGRO', 'MOROCCO', 'MOZAMBIQUE', 'MYANMAR', 'NAMIBIA', 'NAURU', 'NEPAL', 'NETHERLANDS', 'NEW ZEALAND', 'NICARAGUA', 'NIGER', 'NIGERIA', 'NORTH MACEDONIA', 'NORWAY', 'OMAN', 'PAKISTAN', 'PALAU', 'PANAMA', 'PAPUA NEW GUINEA', 'PARAGUAY', 'PERU', 'PHILIPPINES', 'POLAND', 'PORTUGAL', 'QATAR', 'REPUBLIC OF KOREA', 'REPUBLIC OF MOLDOVA', 'ROMANIA', 'RUSSIAN FEDERATION', 'RWANDA', 'SAINT KITTS AND NEVIS', 'SAINT LUCIA', 'SAINT VINCENT AND THE GRENADINES', 'SAMOA', 'SAN MARINO', 'SAO TOME AND PRINCIPE', 'SAUDI ARABIA', 'SENEGAL', 'SERBIA', 'SEYCHELLES', 'SIERRA LEONE', 'SINGAPORE', 'SLOVAKIA', 'SLOVENIA', 'SOLOMON ISLANDS', 'SOMALIA', 'SOUTH AFRICA', 'SOUTH SUDAN', 'SPAIN', 'SRI LANKA', 'SUDAN', 'SURINAME', 'SWEDEN', 'SWITZERLAND', 'SYRIA', 'TAJIKISTAN', 'THAILAND', 'TIMOR-LESTE', 'TOGO', 'TONGA', 'TRINIDAD AND TOBAGO', 'TUNISIA', 'TURKMENISTAN', 'TUVALU', 'TÜRKIYE', 'UGANDA', 'UKRAINE', 'UNITED ARAB EMIRATES', 'UNITED KINGDOM', 'UNITED REPUBLIC OF TANZANIA', 'UNITED STATES', 'URUGUAY', 'UZBEKISTAN', 'VANUATU', 'VENEZUELA', 'VIET NAM', 'YEMEN', 'ZAMBIA', 'ZIMBABWE']\n",
            "['AFGHANISTAN', 'Y', 'DOMINICA', 'LIECHTENSTEIN', 'Y', 'SAMOA', 'Y', 'ALBANIA', 'Y', 'DOMINICAN', 'REPUBLIC', 'Y', 'LITHUANIA', 'Y', 'SAN', 'MARINO', 'Y', 'ALGERIA', 'A', 'ECUADOR', 'Y', 'LUXEMBOURG', 'Y', 'SAO', 'TOME', 'AND', 'PRINCIPE', 'ANDORRA', 'Y', 'EGYPT', 'N', 'MADAGASCAR', 'SAUDI', 'ARABIA', 'A', 'ANGOLA', 'Y', 'EL', 'SALVADOR', 'Y', 'MALAWI', 'Y', 'SENEGAL', 'ANTIGUA', 'AND', 'BARBUDA', 'EQUATORIAL', 'GUINEA', 'MALAYSIA', 'A', 'SERBIA', 'Y', 'ARGENTINA', 'Y', 'ERITREA', 'N', 'MALDIVES', 'Y', 'SEYCHELLES', 'Y', 'ARMENIA', 'ESTONIA', 'Y', 'MALI', 'A', 'SIERRA', 'LEONE', 'AUSTRALIA', 'Y', 'ESWATINI', 'MALTA', 'Y', 'SINGAPORE', 'Y', 'AUSTRIA', 'Y', 'ETHIOPIA', 'N', 'MARSHALL', 'ISLANDS', 'Y', 'SLOVAKIA', 'Y', 'AZERBAIJAN', 'FIJI', 'Y', 'MAURITANIA', 'A', 'SLOVENIA', 'Y', 'BAHAMAS', 'FINLAND', 'Y', 'MAURITIUS', 'Y', 'SOLOMON', 'ISLANDS', 'A', 'BAHRAIN', 'A', 'FRANCE', 'Y', 'MEXICO', 'Y', 'SOMALIA', 'Y', 'BANGLADESH', 'A', 'GABON', 'A', 'MICRONESIA', '(FEDERATED', 'STATES', 'OF)', 'Y', 'SOUTH', 'AFRICA', 'BARBADOS', 'Y', 'GAMBIA', 'MONACO', 'Y', 'SOUTH', 'SUDAN', 'N', 'BELARUS', 'N', 'GEORGIA', 'Y', 'MONGOLIA', 'A', 'SPAIN', 'Y', 'BELGIUM', 'Y', 'GERMANY', 'Y', 'MONTENEGRO', 'Y', 'SRI', 'LANKA', 'A', 'BELIZE', 'Y', 'GHANA', 'Y', 'MOROCCO', 'SUDAN', 'N', 'BENIN', 'GREECE', 'Y', 'MOZAMBIQUE', 'A', 'SURINAME', 'Y', 'BHUTAN', 'Y', 'GRENADA', 'MYANMAR', 'Y', 'SWEDEN', 'Y', 'BOLIVIA', 'GUATEMALA', 'Y', 'NAMIBIA', 'A', 'SWITZERLAND', 'Y', 'BOSNIA', 'AND', 'HERZEGOVINA', 'Y', 'GUINEA', 'Y', 'NAURU', 'Y', 'SYRIAN', 'ARAB', 'REPUBLIC', 'N', 'BOTSWANA', 'Y', 'GUINEA-BISSAU', 'NEPAL', 'Y', 'TAJIKISTAN', 'N', 'BRAZIL', 'Y', 'GUYANA', 'Y', 'NETHERLANDS', 'Y', 'THAILAND', 'A', 'BRUNEI', 'DARUSSALAM', 'A', 'HAITI', 'Y', 'NEW', 'ZEALAND', 'Y', 'TIMOR-LESTE', 'Y', 'BULGARIA', 'Y', 'HONDURAS', 'A', 'NICARAGUA', 'N', 'TOGO', 'A', 'BURKINA', 'FASO', 'HUNGARY', 'Y', 'NIGER', 'Y', 'TONGA', 'BURUNDI', 'A', 'ICELAND', 'Y', 'NIGERIA', 'A', 'TRINIDAD', 'AND', 'TOBAGO', 'Y', 'CABO', 'VERDE', 'Y', 'INDIA', 'Y', 'NORTH', 'MACEDONIA', 'Y', 'TUNISIA', 'A', 'CAMBODIA', 'INDONESIA', 'A', 'NORWAY', 'Y', 'TURKMENISTAN', 'CAMEROON', 'IRAN', '(ISLAMIC', 'REPUBLIC', 'OF)', 'OMAN', 'A', 'TUVALU', 'Y', 'CANADA', 'Y', 'IRAQ', 'Y', 'PAKISTAN', 'A', 'TÜRKIYE', 'Y', 'CENTRAL', 'AFRICAN', 'REPUBLIC', 'A', 'IRELAND', 'Y', 'PALAU', 'Y', 'UGANDA', 'A', 'CHAD', 'Y', 'ISRAEL', 'Y', 'PANAMA', 'Y', 'UKRAINE', 'Y', 'CHILE', 'Y', 'ITALY', 'Y', 'PAPUA', 'NEW', 'GUINEA', 'Y', 'UNITED', 'ARAB', 'EMIRATES', 'A', 'CHINA', 'JAMAICA', 'Y', 'PARAGUAY', 'Y', 'UNITED', 'KINGDOM', 'Y', 'COLOMBIA', 'Y', 'JAPAN', 'Y', 'PERU', 'Y', 'UNITED', 'REPUBLIC', 'OF', 'TANZANIA', 'COMOROS', 'Y', 'JORDAN', 'A', 'PHILIPPINES', 'A', 'UNITED', 'STATES', 'Y', 'CONGO', 'A', 'KAZAKHSTAN', 'N', 'POLAND', 'Y', 'URUGUAY', 'Y', 'COSTA', 'RICA', 'Y', 'KENYA', 'A', 'PORTUGAL', 'Y', 'UZBEKISTAN', 'A', 'COTE', \"D'IVOIRE\", 'Y', 'KIRIBATI', 'QATAR', 'A', 'VANUATU', 'Y', 'CROATIA', 'Y', 'KUWAIT', 'A', 'REPUBLIC', 'OF', 'KOREA', 'Y', 'VENEZUELA', 'CUBA', 'N', 'KYRGYZSTAN', 'A', 'REPUBLIC', 'OF', 'MOLDOVA', 'Y', 'VIET', 'NAM', 'CYPRUS', 'Y', 'LAO', 'PDR', 'A', 'ROMANIA', 'Y', 'YEMEN', 'A', 'CZECHIA', 'Y', 'LATVIA', 'Y', 'RUSSIAN', 'FEDERATION', 'ZAMBIA', 'Y', 'DEMOCRATIC', \"PEOPLE'S\", 'REPUBLIC', 'OF', 'KOREA', 'N', 'LEBANON', 'RWANDA', 'A', 'ZIMBABWE', 'N', 'DEMOCRATIC', 'REPUBLIC', 'OF', 'THE', 'CONGO', 'Y', 'LESOTHO', 'SAINT', 'KITTS', 'AND', 'NEVIS', 'DENMARK', 'Y', 'LIBERIA', 'Y', 'SAINT', 'LUCIA', 'DJIBOUTI', 'Y', 'LIBYA', 'A', 'SAINT', 'VINCENT', 'AND', 'THE', 'GRENADINES', 'A']\n",
            "Directly adding AFGHANISTAN as Y\n",
            "Adding DOMINICA as _\n",
            "Adding LIECHTENSTEIN as _\n",
            "Adding LIECHTENSTEIN as Y\n",
            "Directly adding SAMOA as Y\n",
            "Directly adding ALBANIA as Y\n",
            "Directly adding DOMINICAN REPUBLIC as Y\n",
            "Directly adding LITHUANIA as Y\n",
            "Directly adding SAN MARINO as Y\n",
            "Directly adding ALGERIA as A\n",
            "Directly adding ECUADOR as Y\n",
            "Directly adding LUXEMBOURG as Y\n",
            "Adding SAO TOME AND PRINCIPE as _\n",
            "Adding ANDORRA as _\n",
            "Adding ANDORRA as Y\n",
            "Directly adding EGYPT as N\n",
            "Adding MADAGASCAR as _\n",
            "Adding SAUDI ARABIA as _\n",
            "Adding SAUDI ARABIA as A\n",
            "Directly adding ANGOLA as Y\n",
            "Directly adding EL SALVADOR as Y\n",
            "Directly adding MALAWI as Y\n",
            "Adding SENEGAL as _\n",
            "Adding ANTIGUA AND BARBUDA as _\n",
            "Adding EQUATORIAL GUINEA as _\n",
            "Adding MALAYSIA as _\n",
            "Adding MALAYSIA as A\n",
            "Directly adding SERBIA as Y\n",
            "Directly adding ARGENTINA as Y\n",
            "Directly adding ERITREA as N\n",
            "Directly adding MALDIVES as Y\n",
            "Directly adding SEYCHELLES as Y\n",
            "Adding ARMENIA as _\n",
            "Adding ESTONIA as _\n",
            "Adding ESTONIA as Y\n",
            "Directly adding MALI as A\n",
            "Adding SIERRA LEONE as _\n",
            "Adding AUSTRALIA as _\n",
            "Adding AUSTRALIA as Y\n",
            "Adding ESWATINI as _\n",
            "Adding MALTA as _\n",
            "Adding MALTA as Y\n",
            "Directly adding SINGAPORE as Y\n",
            "Directly adding AUSTRIA as Y\n",
            "Directly adding ETHIOPIA as N\n",
            "Directly adding MARSHALL ISLANDS as Y\n",
            "Directly adding SLOVAKIA as Y\n",
            "Adding AZERBAIJAN as _\n",
            "Adding FIJI as _\n",
            "Adding FIJI as Y\n",
            "Directly adding MAURITANIA as A\n",
            "Directly adding SLOVENIA as Y\n",
            "Adding BAHAMAS as _\n",
            "Adding FINLAND as _\n",
            "Adding FINLAND as Y\n",
            "Directly adding MAURITIUS as Y\n",
            "Directly adding SOLOMON ISLANDS as A\n",
            "Directly adding BAHRAIN as A\n",
            "Directly adding FRANCE as Y\n",
            "Directly adding MEXICO as Y\n",
            "Directly adding SOMALIA as Y\n",
            "Directly adding BANGLADESH as A\n",
            "Directly adding GABON as A\n",
            "Adding MICRONESIA (FEDERATED STATES OF) as Y\n",
            "Adding SOUTH AFRICA as _\n",
            "Adding BARBADOS as _\n",
            "Adding BARBADOS as Y\n",
            "Adding GAMBIA as _\n",
            "Adding MONACO as _\n",
            "Adding MONACO as Y\n",
            "Directly adding SOUTH SUDAN as N\n",
            "Directly adding BELARUS as N\n",
            "Directly adding GEORGIA as Y\n",
            "Directly adding MONGOLIA as A\n",
            "Directly adding SPAIN as Y\n",
            "Directly adding BELGIUM as Y\n",
            "Directly adding GERMANY as Y\n",
            "Directly adding MONTENEGRO as Y\n",
            "Directly adding SRI LANKA as A\n",
            "Directly adding BELIZE as Y\n",
            "Directly adding GHANA as Y\n",
            "Adding MOROCCO as _\n",
            "Adding SUDAN as _\n",
            "Adding SUDAN as N\n",
            "Adding BENIN as _\n",
            "Adding GREECE as _\n",
            "Adding GREECE as Y\n",
            "Directly adding MOZAMBIQUE as A\n",
            "Directly adding SURINAME as Y\n",
            "Directly adding BHUTAN as Y\n",
            "Adding GRENADA as _\n",
            "Adding MYANMAR as _\n",
            "Adding MYANMAR as Y\n",
            "Directly adding SWEDEN as Y\n",
            "Adding BOLIVIA as _\n",
            "Adding GUATEMALA as _\n",
            "Adding GUATEMALA as Y\n",
            "Directly adding NAMIBIA as A\n",
            "Directly adding SWITZERLAND as Y\n",
            "Directly adding BOSNIA AND HERZEGOVINA as Y\n",
            "Directly adding GUINEA as Y\n",
            "Directly adding NAURU as Y\n",
            "Adding SYRIAN ARAB REPUBLIC as N\n",
            "Directly adding BOTSWANA as Y\n",
            "Adding GUINEA-BISSAU as _\n",
            "Adding NEPAL as _\n",
            "Adding NEPAL as Y\n",
            "Directly adding TAJIKISTAN as N\n",
            "Directly adding BRAZIL as Y\n",
            "Directly adding GUYANA as Y\n",
            "Directly adding NETHERLANDS as Y\n",
            "Directly adding THAILAND as A\n",
            "Directly adding BRUNEI DARUSSALAM as A\n",
            "Directly adding HAITI as Y\n",
            "Directly adding NEW ZEALAND as Y\n",
            "Directly adding TIMOR-LESTE as Y\n",
            "Directly adding BULGARIA as Y\n",
            "Directly adding HONDURAS as A\n",
            "Directly adding NICARAGUA as N\n",
            "Directly adding TOGO as A\n",
            "Adding BURKINA FASO as _\n",
            "Adding HUNGARY as _\n",
            "Adding HUNGARY as Y\n",
            "Directly adding NIGER as Y\n",
            "Adding TONGA as _\n",
            "Adding BURUNDI as _\n",
            "Adding BURUNDI as A\n",
            "Directly adding ICELAND as Y\n",
            "Directly adding NIGERIA as A\n",
            "Directly adding TRINIDAD AND TOBAGO as Y\n",
            "Directly adding CABO VERDE as Y\n",
            "Directly adding INDIA as Y\n",
            "Directly adding NORTH MACEDONIA as Y\n",
            "Directly adding TUNISIA as A\n",
            "Adding CAMBODIA as _\n",
            "Adding INDONESIA as _\n",
            "Adding INDONESIA as A\n",
            "Directly adding NORWAY as Y\n",
            "Adding TURKMENISTAN as _\n",
            "Adding CAMEROON as _\n",
            "Adding IRAN (ISLAMIC REPUBLIC OF) as _\n",
            "Adding OMAN as _\n",
            "Adding OMAN as A\n",
            "Directly adding TUVALU as Y\n",
            "Directly adding CANADA as Y\n",
            "Directly adding IRAQ as Y\n",
            "Directly adding PAKISTAN as A\n",
            "Directly adding TÜRKIYE as Y\n",
            "Directly adding CENTRAL AFRICAN REPUBLIC as A\n",
            "Directly adding IRELAND as Y\n",
            "Directly adding PALAU as Y\n",
            "Directly adding UGANDA as A\n",
            "Directly adding CHAD as Y\n",
            "Directly adding ISRAEL as Y\n",
            "Directly adding PANAMA as Y\n",
            "Directly adding UKRAINE as Y\n",
            "Directly adding CHILE as Y\n",
            "Directly adding ITALY as Y\n",
            "Directly adding PAPUA NEW GUINEA as Y\n",
            "Directly adding UNITED ARAB EMIRATES as A\n",
            "Adding CHINA as _\n",
            "Adding JAMAICA as _\n",
            "Adding JAMAICA as Y\n",
            "Directly adding PARAGUAY as Y\n",
            "Directly adding UNITED KINGDOM as Y\n",
            "Directly adding COLOMBIA as Y\n",
            "Directly adding JAPAN as Y\n",
            "Directly adding PERU as Y\n",
            "Adding UNITED REPUBLIC OF TANZANIA as _\n",
            "Adding COMOROS as _\n",
            "Adding COMOROS as Y\n",
            "Directly adding JORDAN as A\n",
            "Directly adding PHILIPPINES as A\n",
            "Directly adding UNITED STATES as Y\n",
            "Directly adding CONGO as A\n",
            "Directly adding KAZAKHSTAN as N\n",
            "Directly adding POLAND as Y\n",
            "Directly adding URUGUAY as Y\n",
            "Directly adding COSTA RICA as Y\n",
            "Directly adding KENYA as A\n",
            "Directly adding PORTUGAL as Y\n",
            "Directly adding UZBEKISTAN as A\n",
            "Directly adding COTE D'IVOIRE as Y\n",
            "Adding KIRIBATI as _\n",
            "Adding QATAR as _\n",
            "Adding QATAR as A\n",
            "Directly adding VANUATU as Y\n",
            "Directly adding CROATIA as Y\n",
            "Directly adding KUWAIT as A\n",
            "Directly adding REPUBLIC OF KOREA as Y\n",
            "Adding VENEZUELA as _\n",
            "Adding CUBA as _\n",
            "Adding CUBA as N\n",
            "Directly adding KYRGYZSTAN as A\n",
            "Directly adding REPUBLIC OF MOLDOVA as Y\n",
            "Adding VIET NAM as _\n",
            "Adding CYPRUS as _\n",
            "Adding CYPRUS as Y\n",
            "Directly adding LAO PDR as A\n",
            "Directly adding ROMANIA as Y\n",
            "Directly adding YEMEN as A\n",
            "Directly adding CZECHIA as Y\n",
            "Directly adding LATVIA as Y\n",
            "Adding RUSSIAN FEDERATION as _\n",
            "Adding ZAMBIA as _\n",
            "Adding ZAMBIA as Y\n",
            "Adding DEMOCRATIC PEOPLE'S REPUBLIC OF KOREA as N\n",
            "Adding LEBANON as _\n",
            "Adding RWANDA as _\n",
            "Adding RWANDA as A\n",
            "Directly adding ZIMBABWE as N\n",
            "Directly adding DEMOCRATIC REPUBLIC OF THE CONGO as Y\n",
            "Adding LESOTHO as _\n",
            "Adding SAINT KITTS AND NEVIS as _\n",
            "Adding DENMARK as _\n",
            "Adding DENMARK as Y\n",
            "Directly adding LIBERIA as Y\n",
            "Adding SAINT LUCIA as _\n",
            "Adding DJIBOUTI as _\n",
            "Adding DJIBOUTI as Y\n",
            "Directly adding LIBYA as A\n",
            "Directly adding SAINT VINCENT AND THE GRENADINES as A\n",
            "[('AFGHANISTAN', 'Y'), ('ALBANIA', 'Y'), ('ALGERIA', 'A'), ('ANGOLA', 'Y'), ('ARGENTINA', 'Y'), ('ARMENIA ESTONIA', 'Y'), ('AUSTRIA', 'Y'), ('AZERBAIJAN FIJI', 'Y'), ('BAHAMAS FINLAND', 'Y'), ('BAHRAIN', 'A'), ('BANGLADESH', 'A'), ('BELARUS', 'N'), ('BELGIUM', 'Y'), ('BELIZE', 'Y'), ('BENIN GREECE', 'Y'), ('BHUTAN', 'Y'), ('BOLIVIA GUATEMALA', 'Y'), ('BOSNIA AND HERZEGOVINA', 'Y'), ('BOTSWANA', 'Y'), ('BRAZIL', 'Y'), ('BRUNEI DARUSSALAM', 'A'), ('BULGARIA', 'Y'), ('BURKINA FASO HUNGARY', 'Y'), ('CABO VERDE', 'Y'), ('CAMBODIA INDONESIA', 'A'), ('CANADA', 'Y'), ('CENTRAL AFRICAN REPUBLIC', 'A'), ('CHAD', 'Y'), ('CHILE', 'Y'), ('CHINA JAMAICA', 'Y'), ('COLOMBIA', 'Y'), ('CONGO', 'A'), ('COSTA RICA', 'Y'), (\"COTE D'IVOIRE\", 'Y'), ('CROATIA', 'Y'), ('CZECHIA', 'Y'), (\"DEMOCRATIC PEOPLE'S REPUBLIC OF KOREA\", 'N'), ('DEMOCRATIC REPUBLIC OF THE CONGO', 'Y'), ('DOMINICA LIECHTENSTEIN', 'Y'), ('DOMINICAN REPUBLIC', 'Y'), ('ECUADOR', 'Y'), ('EGYPT', 'N'), ('EL SALVADOR', 'Y'), ('ERITREA', 'N'), ('ESWATINI MALTA', 'Y'), ('ETHIOPIA', 'N'), ('FRANCE', 'Y'), ('GABON', 'A'), ('GAMBIA MONACO', 'Y'), ('GEORGIA', 'Y'), ('GERMANY', 'Y'), ('GHANA', 'Y'), ('GRENADA MYANMAR', 'Y'), ('GUINEA', 'Y'), ('GUINEA-BISSAU NEPAL', 'Y'), ('GUYANA', 'Y'), ('HAITI', 'Y'), ('HONDURAS', 'A'), ('ICELAND', 'Y'), ('INDIA', 'Y'), ('IRAQ', 'Y'), ('IRELAND', 'Y'), ('ISRAEL', 'Y'), ('ITALY', 'Y'), ('JAPAN', 'Y'), ('JORDAN', 'A'), ('KAZAKHSTAN', 'N'), ('KENYA', 'A'), ('KIRIBATI QATAR', 'A'), ('KUWAIT', 'A'), ('KYRGYZSTAN', 'A'), ('LAO PDR', 'A'), ('LATVIA', 'Y'), ('LEBANON RWANDA', 'A'), ('LESOTHO SAINT KITTS AND NEVIS DENMARK', 'Y'), ('LIBERIA', 'Y'), ('LIBYA', 'A'), ('LITHUANIA', 'Y'), ('LUXEMBOURG', 'Y'), ('MADAGASCAR SAUDI ARABIA', 'A'), ('MALAWI', 'Y'), ('MALDIVES', 'Y'), ('MALI', 'A'), ('MARSHALL ISLANDS', 'Y'), ('MAURITANIA', 'A'), ('MAURITIUS', 'Y'), ('MEXICO', 'Y'), ('MICRONESIA (FEDERATED STATES OF)', 'Y'), ('MONGOLIA', 'A'), ('MONTENEGRO', 'Y'), ('MOROCCO SUDAN', 'N'), ('MOZAMBIQUE', 'A'), ('NAMIBIA', 'A'), ('NAURU', 'Y'), ('NETHERLANDS', 'Y'), ('NEW ZEALAND', 'Y'), ('NICARAGUA', 'N'), ('NIGER', 'Y'), ('NIGERIA', 'A'), ('NORTH MACEDONIA', 'Y'), ('NORWAY', 'Y'), ('PAKISTAN', 'A'), ('PALAU', 'Y'), ('PANAMA', 'Y'), ('PAPUA NEW GUINEA', 'Y'), ('PARAGUAY', 'Y'), ('PERU', 'Y'), ('PHILIPPINES', 'A'), ('POLAND', 'Y'), ('PORTUGAL', 'Y'), ('REPUBLIC OF KOREA', 'Y'), ('REPUBLIC OF MOLDOVA', 'Y'), ('ROMANIA', 'Y'), ('RUSSIAN FEDERATION ZAMBIA', 'Y'), ('SAINT LUCIA DJIBOUTI', 'Y'), ('SAINT VINCENT AND THE GRENADINES', 'A'), ('SAMOA', 'Y'), ('SAN MARINO', 'Y'), ('SAO TOME AND PRINCIPE ANDORRA', 'Y'), ('SENEGAL ANTIGUA AND BARBUDA EQUATORIAL GUINEA MALAYSIA', 'A'), ('SERBIA', 'Y'), ('SEYCHELLES', 'Y'), ('SIERRA LEONE AUSTRALIA', 'Y'), ('SINGAPORE', 'Y'), ('SLOVAKIA', 'Y'), ('SLOVENIA', 'Y'), ('SOLOMON ISLANDS', 'A'), ('SOMALIA', 'Y'), ('SOUTH AFRICA BARBADOS', 'Y'), ('SOUTH SUDAN', 'N'), ('SPAIN', 'Y'), ('SRI LANKA', 'A'), ('SURINAME', 'Y'), ('SWEDEN', 'Y'), ('SWITZERLAND', 'Y'), ('SYRIAN ARAB REPUBLIC', 'N'), ('TAJIKISTAN', 'N'), ('THAILAND', 'A'), ('TIMOR-LESTE', 'Y'), ('TOGO', 'A'), ('TONGA BURUNDI', 'A'), ('TRINIDAD AND TOBAGO', 'Y'), ('TUNISIA', 'A'), ('TURKMENISTAN CAMEROON IRAN (ISLAMIC REPUBLIC OF) OMAN', 'A'), ('TUVALU', 'Y'), ('TÜRKIYE', 'Y'), ('UGANDA', 'A'), ('UKRAINE', 'Y'), ('UNITED ARAB EMIRATES', 'A'), ('UNITED KINGDOM', 'Y'), ('UNITED REPUBLIC OF TANZANIA COMOROS', 'Y'), ('UNITED STATES', 'Y'), ('URUGUAY', 'Y'), ('UZBEKISTAN', 'A'), ('VANUATU', 'Y'), ('VENEZUELA CUBA', 'N'), ('VIET NAM CYPRUS', 'Y'), ('YEMEN', 'A'), ('ZIMBABWE', 'N')]\n",
            "[('AFGHANISTAN', 'Y'), ('ALBANIA', 'Y'), ('ALGERIA', 'A'), ('ANDORRA', 'Y'), ('ANGOLA', 'Y'), ('ANTIGUA AND BARBUDA', '_'), ('ARGENTINA', 'Y'), ('ARMENIA', '_'), ('AUSTRALIA', 'Y'), ('AUSTRIA', 'Y'), ('AZERBAIJAN', '_'), ('BAHAMAS', '_'), ('BAHRAIN', 'A'), ('BANGLADESH', 'A'), ('BARBADOS', 'Y'), ('BELARUS', 'N'), ('BELGIUM', 'Y'), ('BELIZE', 'Y'), ('BENIN', '_'), ('BHUTAN', 'Y'), ('BOLIVIA', '_'), ('BOSNIA AND HERZEGOVINA', 'Y'), ('BOTSWANA', 'Y'), ('BRAZIL', 'Y'), ('BRUNEI DARUSSALAM', 'A'), ('BULGARIA', 'Y'), ('BURKINA FASO', '_'), ('BURUNDI', 'A'), ('CABO VERDE', 'Y'), ('CAMBODIA', '_'), ('CAMEROON', '_'), ('CANADA', 'Y'), ('CENTRAL AFRICAN REPUBLIC', 'A'), ('CHAD', 'Y'), ('CHILE', 'Y'), ('CHINA', '_'), ('COLOMBIA', 'Y'), ('COMOROS', 'Y'), ('CONGO', 'A'), ('COSTA RICA', 'Y'), (\"COTE D'IVOIRE\", 'Y'), ('CROATIA', 'Y'), ('CUBA', 'N'), ('CYPRUS', 'Y'), ('CZECHIA', 'Y'), (\"DEMOCRATIC PEOPLE'S REPUBLIC OF KOREA\", 'N'), ('DEMOCRATIC REPUBLIC OF THE CONGO', 'Y'), ('DENMARK', 'Y'), ('DJIBOUTI', 'Y'), ('DOMINICA', '_'), ('DOMINICAN REPUBLIC', 'Y'), ('ECUADOR', 'Y'), ('EGYPT', 'N'), ('EL SALVADOR', 'Y'), ('EQUATORIAL GUINEA', '_'), ('ERITREA', 'N'), ('ESTONIA', 'Y'), ('ESWATINI', '_'), ('ETHIOPIA', 'N'), ('FIJI', 'Y'), ('FINLAND', 'Y'), ('FRANCE', 'Y'), ('GABON', 'A'), ('GAMBIA', '_'), ('GEORGIA', 'Y'), ('GERMANY', 'Y'), ('GHANA', 'Y'), ('GREECE', 'Y'), ('GRENADA', '_'), ('GUATEMALA', 'Y'), ('GUINEA', 'Y'), ('GUINEA-BISSAU', '_'), ('GUYANA', 'Y'), ('HAITI', 'Y'), ('HONDURAS', 'A'), ('HUNGARY', 'Y'), ('ICELAND', 'Y'), ('INDIA', 'Y'), ('INDONESIA', 'A'), ('IRAN (ISLAMIC REPUBLIC OF)', '_'), ('IRAQ', 'Y'), ('IRELAND', 'Y'), ('ISRAEL', 'Y'), ('ITALY', 'Y'), ('JAMAICA', 'Y'), ('JAPAN', 'Y'), ('JORDAN', 'A'), ('KAZAKHSTAN', 'N'), ('KENYA', 'A'), ('KIRIBATI', '_'), ('KUWAIT', 'A'), ('KYRGYZSTAN', 'A'), ('LAO PDR', 'A'), ('LATVIA', 'Y'), ('LEBANON', '_'), ('LESOTHO', '_'), ('LIBERIA', 'Y'), ('LIBYA', 'A'), ('LIECHTENSTEIN', 'Y'), ('LITHUANIA', 'Y'), ('LUXEMBOURG', 'Y'), ('MADAGASCAR', '_'), ('MALAWI', 'Y'), ('MALAYSIA', 'A'), ('MALDIVES', 'Y'), ('MALI', 'A'), ('MALTA', 'Y'), ('MARSHALL ISLANDS', 'Y'), ('MAURITANIA', 'A'), ('MAURITIUS', 'Y'), ('MEXICO', 'Y'), ('MICRONESIA (FEDERATED STATES OF)', 'Y'), ('MONACO', 'Y'), ('MONGOLIA', 'A'), ('MONTENEGRO', 'Y'), ('MOROCCO', '_'), ('MOZAMBIQUE', 'A'), ('MYANMAR', 'Y'), ('NAMIBIA', 'A'), ('NAURU', 'Y'), ('NEPAL', 'Y'), ('NETHERLANDS', 'Y'), ('NEW ZEALAND', 'Y'), ('NICARAGUA', 'N'), ('NIGER', 'Y'), ('NIGERIA', 'A'), ('NORTH MACEDONIA', 'Y'), ('NORWAY', 'Y'), ('OMAN', 'A'), ('PAKISTAN', 'A'), ('PALAU', 'Y'), ('PANAMA', 'Y'), ('PAPUA NEW GUINEA', 'Y'), ('PARAGUAY', 'Y'), ('PERU', 'Y'), ('PHILIPPINES', 'A'), ('POLAND', 'Y'), ('PORTUGAL', 'Y'), ('QATAR', 'A'), ('REPUBLIC OF KOREA', 'Y'), ('REPUBLIC OF MOLDOVA', 'Y'), ('ROMANIA', 'Y'), ('RUSSIAN FEDERATION', '_'), ('RWANDA', 'A'), ('SAINT KITTS AND NEVIS', '_'), ('SAINT LUCIA', '_'), ('SAINT VINCENT AND THE GRENADINES', 'A'), ('SAMOA', 'Y'), ('SAN MARINO', 'Y'), ('SAO TOME AND PRINCIPE', '_'), ('SAUDI ARABIA', 'A'), ('SENEGAL', '_'), ('SERBIA', 'Y'), ('SEYCHELLES', 'Y'), ('SIERRA LEONE', '_'), ('SINGAPORE', 'Y'), ('SLOVAKIA', 'Y'), ('SLOVENIA', 'Y'), ('SOLOMON ISLANDS', 'A'), ('SOMALIA', 'Y'), ('SOUTH AFRICA', '_'), ('SOUTH SUDAN', 'N'), ('SPAIN', 'Y'), ('SRI LANKA', 'A'), ('SUDAN', 'N'), ('SURINAME', 'Y'), ('SWEDEN', 'Y'), ('SWITZERLAND', 'Y'), ('SYRIAN ARAB REPUBLIC', 'N'), ('TAJIKISTAN', 'N'), ('THAILAND', 'A'), ('TIMOR-LESTE', 'Y'), ('TOGO', 'A'), ('TONGA', '_'), ('TRINIDAD AND TOBAGO', 'Y'), ('TUNISIA', 'A'), ('TURKMENISTAN', '_'), ('TUVALU', 'Y'), ('TÜRKIYE', 'Y'), ('UGANDA', 'A'), ('UKRAINE', 'Y'), ('UNITED ARAB EMIRATES', 'A'), ('UNITED KINGDOM', 'Y'), ('UNITED REPUBLIC OF TANZANIA', '_'), ('UNITED STATES', 'Y'), ('URUGUAY', 'Y'), ('UZBEKISTAN', 'A'), ('VANUATU', 'Y'), ('VENEZUELA', '_'), ('VIET NAM', '_'), ('YEMEN', 'A'), ('ZAMBIA', 'Y'), ('ZIMBABWE', 'N')]\n"
          ]
        }
      ]
    },
    {
      "cell_type": "code",
      "source": [
        "clean_document_text = [line.strip() for line in document_text.splitlines() if line]\n",
        "\n"
      ],
      "metadata": {
        "id": "z-VH7FcJeav4"
      },
      "execution_count": null,
      "outputs": []
    },
    {
      "cell_type": "code",
      "source": [
        "#clean_document_text"
      ],
      "metadata": {
        "id": "szOEhm0FmTqb"
      },
      "execution_count": null,
      "outputs": []
    },
    {
      "cell_type": "code",
      "source": [
        "df = pd.DataFrame(clean_results.items(), columns=[\"Country\", \"Vote\"])\n",
        "\n",
        "df['Vote'] = df['Vote'].str.replace('Y','Yes').replace(\"N\", \"No\").replace(\"A\", \"Abstain\").replace(\"_\", \"Absent\")\n",
        "df\n"
      ],
      "metadata": {
        "colab": {
          "base_uri": "https://localhost:8080/",
          "height": 424
        },
        "id": "-CWw2a4DjmC3",
        "outputId": "d5246073-0417-4e0a-98ea-82bebd1453cb"
      },
      "execution_count": null,
      "outputs": [
        {
          "output_type": "execute_result",
          "data": {
            "text/plain": [
              "                              Country     Vote\n",
              "0                         AFGHANISTAN      Yes\n",
              "1                            DOMINICA   Absent\n",
              "2                       LIECHTENSTEIN      Yes\n",
              "3                               SAMOA      Yes\n",
              "4                             ALBANIA      Yes\n",
              "..                                ...      ...\n",
              "188                           LIBERIA      Yes\n",
              "189                       SAINT LUCIA   Absent\n",
              "190                          DJIBOUTI      Yes\n",
              "191                             LIBYA  Abstain\n",
              "192  SAINT VINCENT AND THE GRENADINES  Abstain\n",
              "\n",
              "[193 rows x 2 columns]"
            ],
            "text/html": [
              "\n",
              "  <div id=\"df-cda0859d-3d16-4fc8-b81b-313368f982fd\">\n",
              "    <div class=\"colab-df-container\">\n",
              "      <div>\n",
              "<style scoped>\n",
              "    .dataframe tbody tr th:only-of-type {\n",
              "        vertical-align: middle;\n",
              "    }\n",
              "\n",
              "    .dataframe tbody tr th {\n",
              "        vertical-align: top;\n",
              "    }\n",
              "\n",
              "    .dataframe thead th {\n",
              "        text-align: right;\n",
              "    }\n",
              "</style>\n",
              "<table border=\"1\" class=\"dataframe\">\n",
              "  <thead>\n",
              "    <tr style=\"text-align: right;\">\n",
              "      <th></th>\n",
              "      <th>Country</th>\n",
              "      <th>Vote</th>\n",
              "    </tr>\n",
              "  </thead>\n",
              "  <tbody>\n",
              "    <tr>\n",
              "      <th>0</th>\n",
              "      <td>AFGHANISTAN</td>\n",
              "      <td>Yes</td>\n",
              "    </tr>\n",
              "    <tr>\n",
              "      <th>1</th>\n",
              "      <td>DOMINICA</td>\n",
              "      <td>Absent</td>\n",
              "    </tr>\n",
              "    <tr>\n",
              "      <th>2</th>\n",
              "      <td>LIECHTENSTEIN</td>\n",
              "      <td>Yes</td>\n",
              "    </tr>\n",
              "    <tr>\n",
              "      <th>3</th>\n",
              "      <td>SAMOA</td>\n",
              "      <td>Yes</td>\n",
              "    </tr>\n",
              "    <tr>\n",
              "      <th>4</th>\n",
              "      <td>ALBANIA</td>\n",
              "      <td>Yes</td>\n",
              "    </tr>\n",
              "    <tr>\n",
              "      <th>...</th>\n",
              "      <td>...</td>\n",
              "      <td>...</td>\n",
              "    </tr>\n",
              "    <tr>\n",
              "      <th>188</th>\n",
              "      <td>LIBERIA</td>\n",
              "      <td>Yes</td>\n",
              "    </tr>\n",
              "    <tr>\n",
              "      <th>189</th>\n",
              "      <td>SAINT LUCIA</td>\n",
              "      <td>Absent</td>\n",
              "    </tr>\n",
              "    <tr>\n",
              "      <th>190</th>\n",
              "      <td>DJIBOUTI</td>\n",
              "      <td>Yes</td>\n",
              "    </tr>\n",
              "    <tr>\n",
              "      <th>191</th>\n",
              "      <td>LIBYA</td>\n",
              "      <td>Abstain</td>\n",
              "    </tr>\n",
              "    <tr>\n",
              "      <th>192</th>\n",
              "      <td>SAINT VINCENT AND THE GRENADINES</td>\n",
              "      <td>Abstain</td>\n",
              "    </tr>\n",
              "  </tbody>\n",
              "</table>\n",
              "<p>193 rows × 2 columns</p>\n",
              "</div>\n",
              "      <button class=\"colab-df-convert\" onclick=\"convertToInteractive('df-cda0859d-3d16-4fc8-b81b-313368f982fd')\"\n",
              "              title=\"Convert this dataframe to an interactive table.\"\n",
              "              style=\"display:none;\">\n",
              "        \n",
              "  <svg xmlns=\"http://www.w3.org/2000/svg\" height=\"24px\"viewBox=\"0 0 24 24\"\n",
              "       width=\"24px\">\n",
              "    <path d=\"M0 0h24v24H0V0z\" fill=\"none\"/>\n",
              "    <path d=\"M18.56 5.44l.94 2.06.94-2.06 2.06-.94-2.06-.94-.94-2.06-.94 2.06-2.06.94zm-11 1L8.5 8.5l.94-2.06 2.06-.94-2.06-.94L8.5 2.5l-.94 2.06-2.06.94zm10 10l.94 2.06.94-2.06 2.06-.94-2.06-.94-.94-2.06-.94 2.06-2.06.94z\"/><path d=\"M17.41 7.96l-1.37-1.37c-.4-.4-.92-.59-1.43-.59-.52 0-1.04.2-1.43.59L10.3 9.45l-7.72 7.72c-.78.78-.78 2.05 0 2.83L4 21.41c.39.39.9.59 1.41.59.51 0 1.02-.2 1.41-.59l7.78-7.78 2.81-2.81c.8-.78.8-2.07 0-2.86zM5.41 20L4 18.59l7.72-7.72 1.47 1.35L5.41 20z\"/>\n",
              "  </svg>\n",
              "      </button>\n",
              "      \n",
              "  <style>\n",
              "    .colab-df-container {\n",
              "      display:flex;\n",
              "      flex-wrap:wrap;\n",
              "      gap: 12px;\n",
              "    }\n",
              "\n",
              "    .colab-df-convert {\n",
              "      background-color: #E8F0FE;\n",
              "      border: none;\n",
              "      border-radius: 50%;\n",
              "      cursor: pointer;\n",
              "      display: none;\n",
              "      fill: #1967D2;\n",
              "      height: 32px;\n",
              "      padding: 0 0 0 0;\n",
              "      width: 32px;\n",
              "    }\n",
              "\n",
              "    .colab-df-convert:hover {\n",
              "      background-color: #E2EBFA;\n",
              "      box-shadow: 0px 1px 2px rgba(60, 64, 67, 0.3), 0px 1px 3px 1px rgba(60, 64, 67, 0.15);\n",
              "      fill: #174EA6;\n",
              "    }\n",
              "\n",
              "    [theme=dark] .colab-df-convert {\n",
              "      background-color: #3B4455;\n",
              "      fill: #D2E3FC;\n",
              "    }\n",
              "\n",
              "    [theme=dark] .colab-df-convert:hover {\n",
              "      background-color: #434B5C;\n",
              "      box-shadow: 0px 1px 3px 1px rgba(0, 0, 0, 0.15);\n",
              "      filter: drop-shadow(0px 1px 2px rgba(0, 0, 0, 0.3));\n",
              "      fill: #FFFFFF;\n",
              "    }\n",
              "  </style>\n",
              "\n",
              "      <script>\n",
              "        const buttonEl =\n",
              "          document.querySelector('#df-cda0859d-3d16-4fc8-b81b-313368f982fd button.colab-df-convert');\n",
              "        buttonEl.style.display =\n",
              "          google.colab.kernel.accessAllowed ? 'block' : 'none';\n",
              "\n",
              "        async function convertToInteractive(key) {\n",
              "          const element = document.querySelector('#df-cda0859d-3d16-4fc8-b81b-313368f982fd');\n",
              "          const dataTable =\n",
              "            await google.colab.kernel.invokeFunction('convertToInteractive',\n",
              "                                                     [key], {});\n",
              "          if (!dataTable) return;\n",
              "\n",
              "          const docLinkHtml = 'Like what you see? Visit the ' +\n",
              "            '<a target=\"_blank\" href=https://colab.research.google.com/notebooks/data_table.ipynb>data table notebook</a>'\n",
              "            + ' to learn more about interactive tables.';\n",
              "          element.innerHTML = '';\n",
              "          dataTable['output_type'] = 'display_data';\n",
              "          await google.colab.output.renderOutput(dataTable, element);\n",
              "          const docLink = document.createElement('div');\n",
              "          docLink.innerHTML = docLinkHtml;\n",
              "          element.appendChild(docLink);\n",
              "        }\n",
              "      </script>\n",
              "    </div>\n",
              "  </div>\n",
              "  "
            ]
          },
          "metadata": {},
          "execution_count": 9
        }
      ]
    },
    {
      "cell_type": "code",
      "source": [
        "df.to_csv(\"vote.csv\")"
      ],
      "metadata": {
        "id": "tp_8RhZ4e5HM"
      },
      "execution_count": null,
      "outputs": []
    },
    {
      "cell_type": "code",
      "source": [
        "from google.colab import files\n",
        "files.download(\"vote.csv\")"
      ],
      "metadata": {
        "id": "PSjrjtkUfKhd",
        "colab": {
          "base_uri": "https://localhost:8080/",
          "height": 34
        },
        "outputId": "99c68469-f441-4cae-d0a9-c3aa0d4fe75b"
      },
      "execution_count": null,
      "outputs": [
        {
          "output_type": "display_data",
          "data": {
            "text/plain": [
              "<IPython.core.display.Javascript object>"
            ],
            "application/javascript": [
              "\n",
              "    async function download(id, filename, size) {\n",
              "      if (!google.colab.kernel.accessAllowed) {\n",
              "        return;\n",
              "      }\n",
              "      const div = document.createElement('div');\n",
              "      const label = document.createElement('label');\n",
              "      label.textContent = `Downloading \"${filename}\": `;\n",
              "      div.appendChild(label);\n",
              "      const progress = document.createElement('progress');\n",
              "      progress.max = size;\n",
              "      div.appendChild(progress);\n",
              "      document.body.appendChild(div);\n",
              "\n",
              "      const buffers = [];\n",
              "      let downloaded = 0;\n",
              "\n",
              "      const channel = await google.colab.kernel.comms.open(id);\n",
              "      // Send a message to notify the kernel that we're ready.\n",
              "      channel.send({})\n",
              "\n",
              "      for await (const message of channel.messages) {\n",
              "        // Send a message to notify the kernel that we're ready.\n",
              "        channel.send({})\n",
              "        if (message.buffers) {\n",
              "          for (const buffer of message.buffers) {\n",
              "            buffers.push(buffer);\n",
              "            downloaded += buffer.byteLength;\n",
              "            progress.value = downloaded;\n",
              "          }\n",
              "        }\n",
              "      }\n",
              "      const blob = new Blob(buffers, {type: 'application/binary'});\n",
              "      const a = document.createElement('a');\n",
              "      a.href = window.URL.createObjectURL(blob);\n",
              "      a.download = filename;\n",
              "      div.appendChild(a);\n",
              "      a.click();\n",
              "      div.remove();\n",
              "    }\n",
              "  "
            ]
          },
          "metadata": {}
        },
        {
          "output_type": "display_data",
          "data": {
            "text/plain": [
              "<IPython.core.display.Javascript object>"
            ],
            "application/javascript": [
              "download(\"download_fb3e5860-99ad-4267-b5ab-646c47f24bc3\", \"vote.csv\", 3672)"
            ]
          },
          "metadata": {}
        }
      ]
    }
  ]
}