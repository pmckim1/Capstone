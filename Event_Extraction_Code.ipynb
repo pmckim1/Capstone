{
  "nbformat": 4,
  "nbformat_minor": 0,
  "metadata": {
    "colab": {
      "name": "Event_Extraction_Code.ipynb",
      "provenance": [],
      "collapsed_sections": [],
      "authorship_tag": "ABX9TyMNM/0UIgzFCeTUHbOoV0PS",
      "include_colab_link": true
    },
    "kernelspec": {
      "name": "python3",
      "display_name": "Python 3"
    },
    "language_info": {
      "name": "python"
    }
  },
  "cells": [
    {
      "cell_type": "markdown",
      "metadata": {
        "id": "view-in-github",
        "colab_type": "text"
      },
      "source": [
        "<a href=\"https://colab.research.google.com/github/pmckim1/Capstone/blob/main/Event_Extraction_Code.ipynb\" target=\"_parent\"><img src=\"https://colab.research.google.com/assets/colab-badge.svg\" alt=\"Open In Colab\"/></a>"
      ]
    },
    {
      "cell_type": "markdown",
      "metadata": {
        "id": "1CIqM9Sfus79"
      },
      "source": [
        "This File is the code used to run the Giveme5W1H algorithm \n",
        "** This code was run on AWS using tmux and required stanford core NLP server to be running in order to run correctly "
      ]
    },
    {
      "cell_type": "code",
      "metadata": {
        "colab": {
          "base_uri": "https://localhost:8080/",
          "height": 154
        },
        "id": "WiCtOhG9v7E-",
        "outputId": "6c75de74-e7e0-495e-a8d6-4773e8febbf9"
      },
      "source": [
        "import csv\n",
        "import json\n",
        "# from google.colab import drive\n",
        "\n",
        "import pandas as pd\n",
        "import numpy as np\n",
        "from Giveme5W1H.extractor.document import Document\n",
        "from Giveme5W1H.extractor.extractor import MasterExtractor\n",
        "from Giveme5W1H.extractor.preprocessors.preprocessor_core_nlp import Preprocessor\n",
        "\n",
        "# drive.mount('/content/drive')\n",
        "\n",
        "# Get the absolute path of the current folder\n",
        "# abspath_curr = '/content/drive/My Drive/capstone/capstone/Data/Guardian/'\n",
        "abspath_curr=\"~/\"\n",
        "\n",
        "df_full_input = pd.read_csv(abspath_curr +'litte_set_2_to_4.csv', header=0)\n",
        "df_partially_processed = pd.read_csv(abspath_curr +'stream-topped_2_to_4_saved.csv', header=0)\n",
        "\n",
        "fieldnames = df_full_input.columns.values.tolist()\n",
        "\n",
        "fieldnames.append('top_who_answer')\n",
        "fieldnames.append('top_what_answer')\n",
        "fieldnames.append('top_when_answer')\n",
        "fieldnames.append('top_where_answer')\n",
        "fieldnames.append('top_why_answer')\n",
        "fieldnames.append('top_how_answer')\n",
        "\n",
        "# df = pd.merge(df_full_input, df_partially_processed, on=[\"t\", \"Id\"])\n",
        "df = pd.merge(\n",
        "    df_full_input,\n",
        "    df_partially_processed[\n",
        "      ['t', 'Id', 'top_who_answer','top_what_answer', 'top_when_answer', 'top_where_answer', 'top_why_answer', 'top_how_answer']\n",
        "    ],\n",
        "    on=['t', 'Id'],\n",
        "    how='left'\n",
        ")\n",
        "print(df_full_input.head(5))\n",
        "print(df_full_input.tail(5))\n",
        "print(len(df_full_input))\n",
        "print(df_partially_processed.head(5))\n",
        "print(df_partially_processed.tail(5))\n",
        "print(len(df_partially_processed))\n",
        "print(df.head(5))\n",
        "print(df.tail(5))\n",
        "print(len(df))\n",
        "\n",
        "df[\"top_who_answer\"]=df.top_who_answer.astype(str)\n",
        "\n",
        "stream_csvfile = open('./stream-topped_2_to_4.csv', 'w', newline='')\n",
        "stream_csv_writer = csv.DictWriter(stream_csvfile, fieldnames=fieldnames)\n",
        "stream_csv_writer.writeheader()\n",
        "\n",
        "ctr = 0\n",
        "size = len(df)\n",
        "def extract_5w(row):\n",
        "  global ctr, size\n",
        "  ctr += 1\n",
        "  print(\"Working on row {} of {}: t {} Id {}.\".format(ctr, size, row['t'], row['Id']))\n",
        "  try:\n",
        "    if row['top_who_answer'] is None or \\\n",
        "        row['top_who_answer'] == \"NaN\" or \\\n",
        "        len(row['top_who_answer']) < 5:\n",
        "      preprocessor = Preprocessor('http://localhost:9000')\n",
        "      extractor = MasterExtractor(preprocessor=preprocessor)\n",
        "      text = row['text']\n",
        "      date_publish = row['pub_date_dto']\n",
        "      doc = Document.from_text(text, date_publish)\n",
        "      doc = extractor.parse(doc)\n",
        "      row['top_who_answer'] = doc.get_top_answer('who').get_parts_as_text()\n",
        "      row['top_what_answer'] = doc.get_top_answer('what').get_parts_as_text()\n",
        "      row['top_when_answer'] = doc.get_top_answer('when').get_parts_as_text()\n",
        "      row['top_where_answer'] = doc.get_top_answer('where').get_parts_as_text()\n",
        "      row['top_why_answer'] = doc.get_top_answer('why').get_parts_as_text()\n",
        "      row['top_how_answer'] = doc.get_top_answer('how').get_parts_as_text()\n",
        "    else:\n",
        "      print(\"Row already processed.\")\n",
        "    # print(row['c1'], row['c2'])\n",
        "  except Exception as e:\n",
        "    print(\"Unable to process document\")\n",
        "    print(e)\n",
        "    print(\"Saving what has been found, and continuing to next document\")\n",
        "  finally:\n",
        "    print(\"Saving row to stream-csv.\")\n",
        "    try:\n",
        "      stream_csv_writer.writerow(json.loads(row.to_json()))\n",
        "    except Exception as e:\n",
        "      print(\"Could not save row to stream-csv.\")\n",
        "    return row\n",
        "\n",
        "try:\n",
        "  df = df.apply(lambda row: extract_5w(row), axis=1)\n",
        "except Exception as e:\n",
        "  print(\"Failure during extract5w\")\n",
        "  print(e)\n",
        "  print(\"Saving curring to disk, abandoning the rest.\")\n",
        "print(\"Head:\")\n",
        "print(df.head(5))\n",
        "print(df.tail(5))\n",
        "\n",
        "stream_csvfile.close()\n",
        "print(\"Saving ./topped_2_to_4.csv\")\n",
        "df.to_csv(\"./topped_2_to_4.csv\")\n"
      ],
      "execution_count": null,
      "outputs": [
        {
          "output_type": "stream",
          "text": [
            "Drive already mounted at /content/drive; to attempt to forcibly remount, call drive.mount(\"/content/drive\", force_remount=True).\n",
            "22155\n"
          ],
          "name": "stdout"
        },
        {
          "output_type": "execute_result",
          "data": {
            "application/vnd.google.colaboratory.intrinsic+json": {
              "type": "string"
            },
            "text/plain": [
              "'\\nfieldnames = df.columns.values.tolist()\\n\\nfieldnames.append(\\'top_who_answer\\')\\nfieldnames.append(\\'top_what_answer\\')\\nfieldnames.append(\\'top_when_answer\\')\\nfieldnames.append(\\'top_where_answer\\')\\nfieldnames.append(\\'top_why_answer\\')\\nfieldnames.append(\\'top_how_answer\\')\\n\\nstream_csvfile = open(\\'./stream-topped_5_to_9.csv\\', \\'w\\', newline=\\'\\')\\nstream_csv_writer = csv.DictWriter(stream_csvfile, fieldnames=fieldnames)\\nstream_csv_writer.writeheader()\\n\\nctr = 0\\nsize = len(df)\\ndef extract_5w(row):\\n  global ctr, size\\n  ctr += 1\\n  print(\"Working on row {} of {}: t {} Id {}.\".format(ctr, size, row[\\'t\\'], row[\\'Id\\']))\\n  try:\\n    preprocessor = Preprocessor(\\'http://localhost:9000\\')\\n    extractor = MasterExtractor(preprocessor=preprocessor)\\n    text = row[\\'text\\']\\n    date_publish = row[\\'pub_date_dto\\']\\n    doc = Document.from_text(text, date_publish)\\n    doc = extractor.parse(doc)\\n    row[\\'top_who_answer\\'] = doc.get_top_answer(\\'who\\').get_parts_as_text()\\n    row[\\'top_what_answer\\'] = doc.get_top_answer(\\'what\\').get_parts_as_text()\\n    row[\\'top_when_answer\\'] = doc.get_top_answer(\\'when\\').get_parts_as_text()\\n    row[\\'top_where_answer\\'] = doc.get_top_answer(\\'where\\').get_parts_as_text()\\n    row[\\'top_why_answer\\'] = doc.get_top_answer(\\'why\\').get_parts_as_text()\\n    row[\\'top_how_answer\\'] = doc.get_top_answer(\\'how\\').get_parts_as_text()\\n    # print(row[\\'c1\\'], row[\\'c2\\'])\\n  except Exception as e:\\n    print(\"Unable to process document\")\\n    print(e)\\n    print(\"Saving what has been found, and continuing to next document\")\\n  finally:\\n    print(\"Saving row to stream-csv.\")\\n    try:\\n      stream_csv_writer.writerow(json.loads(row.to_json()))\\n    except Exception as e:\\n      print(\"Could not save row to stream-csv.\")\\n    return row\\n\\ntry:\\n  df = df.apply(lambda row: extract_5w(row), axis=1)\\nexcept Exception as e:\\n  print(\"Failure during extract5w\")\\n  print(e)\\n  print(\"Saving curring to disk, abandoning the rest.\")\\nprint(\"Head:\")\\nprint(df.head(1))\\n\\nstream_csvfile.close()\\nprint(\"Saving ./topped_5_to_9.csv\")\\ndf.to_csv(\"./topped_5_to_9.csv\")\\n'"
            ]
          },
          "metadata": {
            "tags": []
          },
          "execution_count": 6
        }
      ]
    }
  ]
}